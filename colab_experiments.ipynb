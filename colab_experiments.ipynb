{
  "nbformat": 4,
  "nbformat_minor": 0,
  "metadata": {
    "kernelspec": {
      "display_name": "multiagent",
      "language": "python",
      "name": "myenv"
    },
    "language_info": {
      "codemirror_mode": {
        "name": "ipython",
        "version": 3
      },
      "file_extension": ".py",
      "mimetype": "text/x-python",
      "name": "python",
      "nbconvert_exporter": "python",
      "pygments_lexer": "ipython3",
      "version": "3.7.4"
    },
    "colab": {
      "name": "colab_experiments.ipynb",
      "provenance": [],
      "collapsed_sections": []
    },
    "accelerator": "GPU"
  },
  "cells": [
    {
      "cell_type": "code",
      "metadata": {
        "id": "zEgyhklL7BrX",
        "colab_type": "code",
        "outputId": "b22f3cfa-0f3c-4551-abcf-96f787278923",
        "colab": {
          "base_uri": "https://localhost:8080/",
          "height": 412
        }
      },
      "source": [
        "!pip3 install tensorflow-gpu\n",
        "!pip3 install Pillow==6.2.1"
      ],
      "execution_count": 1,
      "outputs": [
        {
          "output_type": "stream",
          "text": [
            "Collecting tensorflow-gpu\n",
            "  Using cached https://files.pythonhosted.org/packages/25/44/47f0722aea081697143fbcf5d2aa60d1aee4aaacb5869aee2b568974777b/tensorflow_gpu-2.0.0-cp36-cp36m-manylinux2010_x86_64.whl\n",
            "\u001b[31mERROR: Operation cancelled by user\u001b[0m\n"
          ],
          "name": "stdout"
        },
        {
          "output_type": "error",
          "ename": "KeyboardInterrupt",
          "evalue": "ignored",
          "traceback": [
            "\u001b[0;31m---------------------------------------------------------------------------\u001b[0m",
            "\u001b[0;31mKeyboardInterrupt\u001b[0m                         Traceback (most recent call last)",
            "\u001b[0;32m<ipython-input-1-035f629af246>\u001b[0m in \u001b[0;36m<module>\u001b[0;34m()\u001b[0m\n\u001b[0;32m----> 1\u001b[0;31m \u001b[0mget_ipython\u001b[0m\u001b[0;34m(\u001b[0m\u001b[0;34m)\u001b[0m\u001b[0;34m.\u001b[0m\u001b[0msystem\u001b[0m\u001b[0;34m(\u001b[0m\u001b[0;34m'pip3 install tensorflow-gpu'\u001b[0m\u001b[0;34m)\u001b[0m\u001b[0;34m\u001b[0m\u001b[0;34m\u001b[0m\u001b[0m\n\u001b[0m\u001b[1;32m      2\u001b[0m \u001b[0mget_ipython\u001b[0m\u001b[0;34m(\u001b[0m\u001b[0;34m)\u001b[0m\u001b[0;34m.\u001b[0m\u001b[0msystem\u001b[0m\u001b[0;34m(\u001b[0m\u001b[0;34m'pip3 install Pillow==6.2.1'\u001b[0m\u001b[0;34m)\u001b[0m\u001b[0;34m\u001b[0m\u001b[0;34m\u001b[0m\u001b[0m\n",
            "\u001b[0;32m/usr/local/lib/python3.6/dist-packages/google/colab/_shell.py\u001b[0m in \u001b[0;36msystem\u001b[0;34m(self, *args, **kwargs)\u001b[0m\n\u001b[1;32m     94\u001b[0m       \u001b[0mkwargs\u001b[0m\u001b[0;34m.\u001b[0m\u001b[0mupdate\u001b[0m\u001b[0;34m(\u001b[0m\u001b[0;34m{\u001b[0m\u001b[0;34m'also_return_output'\u001b[0m\u001b[0;34m:\u001b[0m \u001b[0;32mTrue\u001b[0m\u001b[0;34m}\u001b[0m\u001b[0;34m)\u001b[0m\u001b[0;34m\u001b[0m\u001b[0;34m\u001b[0m\u001b[0m\n\u001b[1;32m     95\u001b[0m \u001b[0;34m\u001b[0m\u001b[0m\n\u001b[0;32m---> 96\u001b[0;31m     \u001b[0moutput\u001b[0m \u001b[0;34m=\u001b[0m \u001b[0m_system_commands\u001b[0m\u001b[0;34m.\u001b[0m\u001b[0m_system_compat\u001b[0m\u001b[0;34m(\u001b[0m\u001b[0mself\u001b[0m\u001b[0;34m,\u001b[0m \u001b[0;34m*\u001b[0m\u001b[0margs\u001b[0m\u001b[0;34m,\u001b[0m \u001b[0;34m**\u001b[0m\u001b[0mkwargs\u001b[0m\u001b[0;34m)\u001b[0m  \u001b[0;31m# pylint:disable=protected-access\u001b[0m\u001b[0;34m\u001b[0m\u001b[0;34m\u001b[0m\u001b[0m\n\u001b[0m\u001b[1;32m     97\u001b[0m \u001b[0;34m\u001b[0m\u001b[0m\n\u001b[1;32m     98\u001b[0m     \u001b[0;32mif\u001b[0m \u001b[0mpip_warn\u001b[0m\u001b[0;34m:\u001b[0m\u001b[0;34m\u001b[0m\u001b[0;34m\u001b[0m\u001b[0m\n",
            "\u001b[0;32m/usr/local/lib/python3.6/dist-packages/google/colab/_system_commands.py\u001b[0m in \u001b[0;36m_system_compat\u001b[0;34m(shell, cmd, also_return_output)\u001b[0m\n\u001b[1;32m    436\u001b[0m   \u001b[0;31m# stack.\u001b[0m\u001b[0;34m\u001b[0m\u001b[0;34m\u001b[0m\u001b[0;34m\u001b[0m\u001b[0m\n\u001b[1;32m    437\u001b[0m   result = _run_command(\n\u001b[0;32m--> 438\u001b[0;31m       shell.var_expand(cmd, depth=2), clear_streamed_output=False)\n\u001b[0m\u001b[1;32m    439\u001b[0m   \u001b[0mshell\u001b[0m\u001b[0;34m.\u001b[0m\u001b[0muser_ns\u001b[0m\u001b[0;34m[\u001b[0m\u001b[0;34m'_exit_code'\u001b[0m\u001b[0;34m]\u001b[0m \u001b[0;34m=\u001b[0m \u001b[0mresult\u001b[0m\u001b[0;34m.\u001b[0m\u001b[0mreturncode\u001b[0m\u001b[0;34m\u001b[0m\u001b[0;34m\u001b[0m\u001b[0m\n\u001b[1;32m    440\u001b[0m   \u001b[0;32mif\u001b[0m \u001b[0;34m-\u001b[0m\u001b[0mresult\u001b[0m\u001b[0;34m.\u001b[0m\u001b[0mreturncode\u001b[0m \u001b[0;32min\u001b[0m \u001b[0m_INTERRUPTED_SIGNALS\u001b[0m\u001b[0;34m:\u001b[0m\u001b[0;34m\u001b[0m\u001b[0;34m\u001b[0m\u001b[0m\n",
            "\u001b[0;32m/usr/local/lib/python3.6/dist-packages/google/colab/_system_commands.py\u001b[0m in \u001b[0;36m_run_command\u001b[0;34m(cmd, clear_streamed_output)\u001b[0m\n\u001b[1;32m    193\u001b[0m       \u001b[0mos\u001b[0m\u001b[0;34m.\u001b[0m\u001b[0mclose\u001b[0m\u001b[0;34m(\u001b[0m\u001b[0mchild_pty\u001b[0m\u001b[0;34m)\u001b[0m\u001b[0;34m\u001b[0m\u001b[0;34m\u001b[0m\u001b[0m\n\u001b[1;32m    194\u001b[0m \u001b[0;34m\u001b[0m\u001b[0m\n\u001b[0;32m--> 195\u001b[0;31m       \u001b[0;32mreturn\u001b[0m \u001b[0m_monitor_process\u001b[0m\u001b[0;34m(\u001b[0m\u001b[0mparent_pty\u001b[0m\u001b[0;34m,\u001b[0m \u001b[0mepoll\u001b[0m\u001b[0;34m,\u001b[0m \u001b[0mp\u001b[0m\u001b[0;34m,\u001b[0m \u001b[0mcmd\u001b[0m\u001b[0;34m,\u001b[0m \u001b[0mupdate_stdin_widget\u001b[0m\u001b[0;34m)\u001b[0m\u001b[0;34m\u001b[0m\u001b[0;34m\u001b[0m\u001b[0m\n\u001b[0m\u001b[1;32m    196\u001b[0m   \u001b[0;32mfinally\u001b[0m\u001b[0;34m:\u001b[0m\u001b[0;34m\u001b[0m\u001b[0;34m\u001b[0m\u001b[0m\n\u001b[1;32m    197\u001b[0m     \u001b[0mepoll\u001b[0m\u001b[0;34m.\u001b[0m\u001b[0mclose\u001b[0m\u001b[0;34m(\u001b[0m\u001b[0;34m)\u001b[0m\u001b[0;34m\u001b[0m\u001b[0;34m\u001b[0m\u001b[0m\n",
            "\u001b[0;32m/usr/lib/python3.6/contextlib.py\u001b[0m in \u001b[0;36m__exit__\u001b[0;34m(self, type, value, traceback)\u001b[0m\n\u001b[1;32m     86\u001b[0m         \u001b[0;32mif\u001b[0m \u001b[0mtype\u001b[0m \u001b[0;32mis\u001b[0m \u001b[0;32mNone\u001b[0m\u001b[0;34m:\u001b[0m\u001b[0;34m\u001b[0m\u001b[0;34m\u001b[0m\u001b[0m\n\u001b[1;32m     87\u001b[0m             \u001b[0;32mtry\u001b[0m\u001b[0;34m:\u001b[0m\u001b[0;34m\u001b[0m\u001b[0;34m\u001b[0m\u001b[0m\n\u001b[0;32m---> 88\u001b[0;31m                 \u001b[0mnext\u001b[0m\u001b[0;34m(\u001b[0m\u001b[0mself\u001b[0m\u001b[0;34m.\u001b[0m\u001b[0mgen\u001b[0m\u001b[0;34m)\u001b[0m\u001b[0;34m\u001b[0m\u001b[0;34m\u001b[0m\u001b[0m\n\u001b[0m\u001b[1;32m     89\u001b[0m             \u001b[0;32mexcept\u001b[0m \u001b[0mStopIteration\u001b[0m\u001b[0;34m:\u001b[0m\u001b[0;34m\u001b[0m\u001b[0;34m\u001b[0m\u001b[0m\n\u001b[1;32m     90\u001b[0m                 \u001b[0;32mreturn\u001b[0m \u001b[0;32mFalse\u001b[0m\u001b[0;34m\u001b[0m\u001b[0;34m\u001b[0m\u001b[0m\n",
            "\u001b[0;32m/usr/local/lib/python3.6/dist-packages/google/colab/_system_commands.py\u001b[0m in \u001b[0;36m_display_stdin_widget\u001b[0;34m(delay_millis)\u001b[0m\n\u001b[1;32m    353\u001b[0m \u001b[0;34m\u001b[0m\u001b[0m\n\u001b[1;32m    354\u001b[0m   \u001b[0mhide_args\u001b[0m \u001b[0;34m=\u001b[0m \u001b[0;34m[\u001b[0m\u001b[0;34m'cell_remove_stdin'\u001b[0m\u001b[0;34m,\u001b[0m \u001b[0;34m{\u001b[0m\u001b[0;34m}\u001b[0m\u001b[0;34m]\u001b[0m\u001b[0;34m\u001b[0m\u001b[0;34m\u001b[0m\u001b[0m\n\u001b[0;32m--> 355\u001b[0;31m   \u001b[0m_message\u001b[0m\u001b[0;34m.\u001b[0m\u001b[0mblocking_request\u001b[0m\u001b[0;34m(\u001b[0m\u001b[0;34m*\u001b[0m\u001b[0mhide_args\u001b[0m\u001b[0;34m,\u001b[0m \u001b[0mparent\u001b[0m\u001b[0;34m=\u001b[0m\u001b[0mshell\u001b[0m\u001b[0;34m.\u001b[0m\u001b[0mparent_header\u001b[0m\u001b[0;34m)\u001b[0m\u001b[0;34m\u001b[0m\u001b[0;34m\u001b[0m\u001b[0m\n\u001b[0m\u001b[1;32m    356\u001b[0m \u001b[0;34m\u001b[0m\u001b[0m\n\u001b[1;32m    357\u001b[0m \u001b[0;34m\u001b[0m\u001b[0m\n",
            "\u001b[0;32m/usr/local/lib/python3.6/dist-packages/google/colab/_message.py\u001b[0m in \u001b[0;36mblocking_request\u001b[0;34m(request_type, request, timeout_sec, parent)\u001b[0m\n\u001b[1;32m    169\u001b[0m   \u001b[0;31m# unique.\u001b[0m\u001b[0;34m\u001b[0m\u001b[0;34m\u001b[0m\u001b[0;34m\u001b[0m\u001b[0m\n\u001b[1;32m    170\u001b[0m   \u001b[0mrequest_id\u001b[0m \u001b[0;34m=\u001b[0m \u001b[0msend_request\u001b[0m\u001b[0;34m(\u001b[0m\u001b[0mrequest_type\u001b[0m\u001b[0;34m,\u001b[0m \u001b[0mrequest\u001b[0m\u001b[0;34m,\u001b[0m \u001b[0mparent\u001b[0m\u001b[0;34m=\u001b[0m\u001b[0mparent\u001b[0m\u001b[0;34m)\u001b[0m\u001b[0;34m\u001b[0m\u001b[0;34m\u001b[0m\u001b[0m\n\u001b[0;32m--> 171\u001b[0;31m   \u001b[0;32mreturn\u001b[0m \u001b[0mread_reply_from_input\u001b[0m\u001b[0;34m(\u001b[0m\u001b[0mrequest_id\u001b[0m\u001b[0;34m,\u001b[0m \u001b[0mtimeout_sec\u001b[0m\u001b[0;34m)\u001b[0m\u001b[0;34m\u001b[0m\u001b[0;34m\u001b[0m\u001b[0m\n\u001b[0m",
            "\u001b[0;32m/usr/local/lib/python3.6/dist-packages/google/colab/_message.py\u001b[0m in \u001b[0;36mread_reply_from_input\u001b[0;34m(message_id, timeout_sec)\u001b[0m\n\u001b[1;32m     99\u001b[0m     \u001b[0mreply\u001b[0m \u001b[0;34m=\u001b[0m \u001b[0m_read_next_input_message\u001b[0m\u001b[0;34m(\u001b[0m\u001b[0;34m)\u001b[0m\u001b[0;34m\u001b[0m\u001b[0;34m\u001b[0m\u001b[0m\n\u001b[1;32m    100\u001b[0m     \u001b[0;32mif\u001b[0m \u001b[0mreply\u001b[0m \u001b[0;34m==\u001b[0m \u001b[0m_NOT_READY\u001b[0m \u001b[0;32mor\u001b[0m \u001b[0;32mnot\u001b[0m \u001b[0misinstance\u001b[0m\u001b[0;34m(\u001b[0m\u001b[0mreply\u001b[0m\u001b[0;34m,\u001b[0m \u001b[0mdict\u001b[0m\u001b[0;34m)\u001b[0m\u001b[0;34m:\u001b[0m\u001b[0;34m\u001b[0m\u001b[0;34m\u001b[0m\u001b[0m\n\u001b[0;32m--> 101\u001b[0;31m       \u001b[0mtime\u001b[0m\u001b[0;34m.\u001b[0m\u001b[0msleep\u001b[0m\u001b[0;34m(\u001b[0m\u001b[0;36m0.025\u001b[0m\u001b[0;34m)\u001b[0m\u001b[0;34m\u001b[0m\u001b[0;34m\u001b[0m\u001b[0m\n\u001b[0m\u001b[1;32m    102\u001b[0m       \u001b[0;32mcontinue\u001b[0m\u001b[0;34m\u001b[0m\u001b[0;34m\u001b[0m\u001b[0m\n\u001b[1;32m    103\u001b[0m     if (reply.get('type') == 'colab_reply' and\n",
            "\u001b[0;31mKeyboardInterrupt\u001b[0m: "
          ]
        }
      ]
    },
    {
      "cell_type": "code",
      "metadata": {
        "id": "kj4nzIdsOR34",
        "colab_type": "code",
        "colab": {
          "base_uri": "https://localhost:8080/",
          "height": 1000
        },
        "outputId": "2916960e-c594-428b-d36c-52798e39e368"
      },
      "source": [
        "#Install this if no gpu is detected\n",
        "!pip3 install tf-nightly-gpu"
      ],
      "execution_count": 2,
      "outputs": [
        {
          "output_type": "stream",
          "text": [
            "Collecting tf-nightly-gpu\n",
            "\u001b[?25l  Downloading https://files.pythonhosted.org/packages/04/6d/bda4300be02d523d4795f3ae2b4c2ca198262becd324cb1d0dcaf75648c4/tf_nightly_gpu-2.1.0.dev20191218-cp36-cp36m-manylinux2010_x86_64.whl (441.9MB)\n",
            "\u001b[K     |████████████████████████████████| 441.9MB 38kB/s \n",
            "\u001b[?25hRequirement already satisfied: wrapt>=1.11.1 in /usr/local/lib/python3.6/dist-packages (from tf-nightly-gpu) (1.11.2)\n",
            "Collecting tf-estimator-nightly\n",
            "\u001b[?25l  Downloading https://files.pythonhosted.org/packages/ca/eb/5c96f0bf1911782366e228728bb7fa94bc89d13d5ed3a9036b9edc26bcc4/tf_estimator_nightly-2.0.0.dev2019121809-py2.py3-none-any.whl (451kB)\n",
            "\u001b[K     |████████████████████████████████| 460kB 39.6MB/s \n",
            "\u001b[?25hCollecting tb-nightly<2.3.0a0,>=2.2.0a0\n",
            "\u001b[?25l  Downloading https://files.pythonhosted.org/packages/f5/7e/5071c6392b45daeb9b19192e81555924c80a5a8dc6aee5a7770d754c9900/tb_nightly-2.2.0a20191218-py3-none-any.whl (3.8MB)\n",
            "\u001b[K     |████████████████████████████████| 3.9MB 45.5MB/s \n",
            "\u001b[?25hRequirement already satisfied: gast==0.2.2 in /usr/local/lib/python3.6/dist-packages (from tf-nightly-gpu) (0.2.2)\n",
            "Requirement already satisfied: termcolor>=1.1.0 in /usr/local/lib/python3.6/dist-packages (from tf-nightly-gpu) (1.1.0)\n",
            "Requirement already satisfied: absl-py>=0.7.0 in /usr/local/lib/python3.6/dist-packages (from tf-nightly-gpu) (0.8.1)\n",
            "Requirement already satisfied: google-pasta>=0.1.8 in /usr/local/lib/python3.6/dist-packages (from tf-nightly-gpu) (0.1.8)\n",
            "Requirement already satisfied: grpcio>=1.8.6 in /usr/local/lib/python3.6/dist-packages (from tf-nightly-gpu) (1.15.0)\n",
            "Requirement already satisfied: keras-preprocessing>=1.1.0 in /usr/local/lib/python3.6/dist-packages (from tf-nightly-gpu) (1.1.0)\n",
            "Requirement already satisfied: wheel>=0.26; python_version >= \"3\" in /usr/local/lib/python3.6/dist-packages (from tf-nightly-gpu) (0.33.6)\n",
            "Requirement already satisfied: protobuf>=3.8.0 in /usr/local/lib/python3.6/dist-packages (from tf-nightly-gpu) (3.10.0)\n",
            "Requirement already satisfied: six>=1.12.0 in /usr/local/lib/python3.6/dist-packages (from tf-nightly-gpu) (1.12.0)\n",
            "Collecting h5py<2.11.0,>=2.10.0\n",
            "\u001b[?25l  Downloading https://files.pythonhosted.org/packages/60/06/cafdd44889200e5438b897388f3075b52a8ef01f28a17366d91de0fa2d05/h5py-2.10.0-cp36-cp36m-manylinux1_x86_64.whl (2.9MB)\n",
            "\u001b[K     |████████████████████████████████| 2.9MB 29.8MB/s \n",
            "\u001b[?25hRequirement already satisfied: opt-einsum>=2.3.2 in /usr/local/lib/python3.6/dist-packages (from tf-nightly-gpu) (3.1.0)\n",
            "Requirement already satisfied: numpy<2.0,>=1.16.0 in /usr/local/lib/python3.6/dist-packages (from tf-nightly-gpu) (1.17.4)\n",
            "Requirement already satisfied: astor>=0.6.0 in /usr/local/lib/python3.6/dist-packages (from tf-nightly-gpu) (0.8.1)\n",
            "Requirement already satisfied: markdown>=2.6.8 in /usr/local/lib/python3.6/dist-packages (from tb-nightly<2.3.0a0,>=2.2.0a0->tf-nightly-gpu) (3.1.1)\n",
            "Requirement already satisfied: setuptools>=41.0.0 in /usr/local/lib/python3.6/dist-packages (from tb-nightly<2.3.0a0,>=2.2.0a0->tf-nightly-gpu) (42.0.2)\n",
            "Requirement already satisfied: google-auth-oauthlib<0.5,>=0.4.1 in /usr/local/lib/python3.6/dist-packages (from tb-nightly<2.3.0a0,>=2.2.0a0->tf-nightly-gpu) (0.4.1)\n",
            "Collecting google-auth<2,>=1.6.3\n",
            "\u001b[?25l  Downloading https://files.pythonhosted.org/packages/17/83/3cb31033e1ea0bdb8991b6ef327a5bf4960bd3dd31ff355881bfb0ddf199/google_auth-1.9.0-py2.py3-none-any.whl (75kB)\n",
            "\u001b[K     |████████████████████████████████| 81kB 10.2MB/s \n",
            "\u001b[?25hRequirement already satisfied: requests<3,>=2.21.0 in /usr/local/lib/python3.6/dist-packages (from tb-nightly<2.3.0a0,>=2.2.0a0->tf-nightly-gpu) (2.21.0)\n",
            "Requirement already satisfied: werkzeug>=0.11.15 in /usr/local/lib/python3.6/dist-packages (from tb-nightly<2.3.0a0,>=2.2.0a0->tf-nightly-gpu) (0.16.0)\n",
            "Requirement already satisfied: requests-oauthlib>=0.7.0 in /usr/local/lib/python3.6/dist-packages (from google-auth-oauthlib<0.5,>=0.4.1->tb-nightly<2.3.0a0,>=2.2.0a0->tf-nightly-gpu) (1.3.0)\n",
            "Requirement already satisfied: cachetools<3.2,>=2.0.0 in /usr/local/lib/python3.6/dist-packages (from google-auth<2,>=1.6.3->tb-nightly<2.3.0a0,>=2.2.0a0->tf-nightly-gpu) (3.1.1)\n",
            "Requirement already satisfied: rsa<4.1,>=3.1.4 in /usr/local/lib/python3.6/dist-packages (from google-auth<2,>=1.6.3->tb-nightly<2.3.0a0,>=2.2.0a0->tf-nightly-gpu) (4.0)\n",
            "Requirement already satisfied: pyasn1-modules>=0.2.1 in /usr/local/lib/python3.6/dist-packages (from google-auth<2,>=1.6.3->tb-nightly<2.3.0a0,>=2.2.0a0->tf-nightly-gpu) (0.2.7)\n",
            "Requirement already satisfied: idna<2.9,>=2.5 in /usr/local/lib/python3.6/dist-packages (from requests<3,>=2.21.0->tb-nightly<2.3.0a0,>=2.2.0a0->tf-nightly-gpu) (2.8)\n",
            "Requirement already satisfied: urllib3<1.25,>=1.21.1 in /usr/local/lib/python3.6/dist-packages (from requests<3,>=2.21.0->tb-nightly<2.3.0a0,>=2.2.0a0->tf-nightly-gpu) (1.24.3)\n",
            "Requirement already satisfied: chardet<3.1.0,>=3.0.2 in /usr/local/lib/python3.6/dist-packages (from requests<3,>=2.21.0->tb-nightly<2.3.0a0,>=2.2.0a0->tf-nightly-gpu) (3.0.4)\n",
            "Requirement already satisfied: certifi>=2017.4.17 in /usr/local/lib/python3.6/dist-packages (from requests<3,>=2.21.0->tb-nightly<2.3.0a0,>=2.2.0a0->tf-nightly-gpu) (2019.11.28)\n",
            "Requirement already satisfied: oauthlib>=3.0.0 in /usr/local/lib/python3.6/dist-packages (from requests-oauthlib>=0.7.0->google-auth-oauthlib<0.5,>=0.4.1->tb-nightly<2.3.0a0,>=2.2.0a0->tf-nightly-gpu) (3.1.0)\n",
            "Requirement already satisfied: pyasn1>=0.1.3 in /usr/local/lib/python3.6/dist-packages (from rsa<4.1,>=3.1.4->google-auth<2,>=1.6.3->tb-nightly<2.3.0a0,>=2.2.0a0->tf-nightly-gpu) (0.4.8)\n",
            "\u001b[31mERROR: google-colab 1.0.0 has requirement google-auth~=1.4.0, but you'll have google-auth 1.9.0 which is incompatible.\u001b[0m\n",
            "\u001b[31mERROR: tb-nightly 2.2.0a20191218 has requirement grpcio>=1.24.3, but you'll have grpcio 1.15.0 which is incompatible.\u001b[0m\n",
            "Installing collected packages: tf-estimator-nightly, google-auth, tb-nightly, h5py, tf-nightly-gpu\n",
            "  Found existing installation: google-auth 1.4.2\n",
            "    Uninstalling google-auth-1.4.2:\n",
            "      Successfully uninstalled google-auth-1.4.2\n",
            "  Found existing installation: h5py 2.8.0\n",
            "    Uninstalling h5py-2.8.0:\n",
            "      Successfully uninstalled h5py-2.8.0\n",
            "Successfully installed google-auth-1.9.0 h5py-2.10.0 tb-nightly-2.2.0a20191218 tf-estimator-nightly-2.0.0.dev2019121809 tf-nightly-gpu-2.1.0.dev20191218\n"
          ],
          "name": "stdout"
        },
        {
          "output_type": "display_data",
          "data": {
            "application/vnd.colab-display-data+json": {
              "pip_warning": {
                "packages": [
                  "google"
                ]
              }
            }
          },
          "metadata": {
            "tags": []
          }
        }
      ]
    },
    {
      "cell_type": "code",
      "metadata": {
        "id": "vf1Ki4fiRVMA",
        "colab_type": "code",
        "colab": {
          "base_uri": "https://localhost:8080/",
          "height": 107
        },
        "outputId": "d8630570-adc8-4b96-c305-7f851d4885fc"
      },
      "source": [
        "!pip3 uninstall tensorflow-gpu"
      ],
      "execution_count": 8,
      "outputs": [
        {
          "output_type": "stream",
          "text": [
            "Uninstalling tensorflow-gpu-2.0.0:\n",
            "  Would remove:\n",
            "    /usr/local/lib/python3.6/dist-packages/tensorflow_gpu-2.0.0.dist-info/*\n",
            "Proceed (y/n)? y\n",
            "  Successfully uninstalled tensorflow-gpu-2.0.0\n"
          ],
          "name": "stdout"
        }
      ]
    },
    {
      "cell_type": "markdown",
      "metadata": {
        "id": "YDL9j_JELyDc",
        "colab_type": "text"
      },
      "source": [
        "## Download Data"
      ]
    },
    {
      "cell_type": "code",
      "metadata": {
        "id": "kguB7RJP8jMz",
        "colab_type": "code",
        "outputId": "83b4c24d-45ff-4cb2-8bc7-2ca2731b34ab",
        "colab": {
          "base_uri": "https://localhost:8080/",
          "height": 214
        }
      },
      "source": [
        "!wget http://images.cocodataset.org/zips/val2017.zip"
      ],
      "execution_count": 1,
      "outputs": [
        {
          "output_type": "stream",
          "text": [
            "--2019-12-18 15:18:03--  http://images.cocodataset.org/zips/val2017.zip\n",
            "Resolving images.cocodataset.org (images.cocodataset.org)... 52.216.229.243\n",
            "Connecting to images.cocodataset.org (images.cocodataset.org)|52.216.229.243|:80... connected.\n",
            "HTTP request sent, awaiting response... 200 OK\n",
            "Length: 815585330 (778M) [application/zip]\n",
            "Saving to: ‘val2017.zip’\n",
            "\n",
            "val2017.zip         100%[===================>] 777.80M  13.6MB/s    in 60s     \n",
            "\n",
            "2019-12-18 15:19:03 (13.0 MB/s) - ‘val2017.zip’ saved [815585330/815585330]\n",
            "\n"
          ],
          "name": "stdout"
        }
      ]
    },
    {
      "cell_type": "code",
      "metadata": {
        "id": "PtlR0S0nCedN",
        "colab_type": "code",
        "colab": {}
      },
      "source": [
        "!mkdir data\n"
      ],
      "execution_count": 0,
      "outputs": []
    },
    {
      "cell_type": "code",
      "metadata": {
        "id": "ZU8XwCm6CzxQ",
        "colab_type": "code",
        "colab": {}
      },
      "source": [
        "!mv val2017.zip data"
      ],
      "execution_count": 0,
      "outputs": []
    },
    {
      "cell_type": "code",
      "metadata": {
        "id": "XaN4W5kCC6vy",
        "colab_type": "code",
        "outputId": "c8db96d9-9817-46e0-a2b9-bb55881b6d1f",
        "colab": {
          "base_uri": "https://localhost:8080/",
          "height": 35
        }
      },
      "source": [
        "!cd data && ls && unzip -q val2017.zip"
      ],
      "execution_count": 4,
      "outputs": [
        {
          "output_type": "stream",
          "text": [
            "val2017.zip\n"
          ],
          "name": "stdout"
        }
      ]
    },
    {
      "cell_type": "code",
      "metadata": {
        "id": "iTzUN7GV9DO8",
        "colab_type": "code",
        "outputId": "049b2a27-43eb-4806-d24d-d5a84210189f",
        "colab": {
          "base_uri": "https://localhost:8080/",
          "height": 214
        }
      },
      "source": [
        "!wget http://images.cocodataset.org/annotations/annotations_trainval2017.zip"
      ],
      "execution_count": 9,
      "outputs": [
        {
          "output_type": "stream",
          "text": [
            "--2019-12-18 15:20:39--  http://images.cocodataset.org/annotations/annotations_trainval2017.zip\n",
            "Resolving images.cocodataset.org (images.cocodataset.org)... 52.217.37.92\n",
            "Connecting to images.cocodataset.org (images.cocodataset.org)|52.217.37.92|:80... connected.\n",
            "HTTP request sent, awaiting response... 200 OK\n",
            "Length: 252907541 (241M) [application/zip]\n",
            "Saving to: ‘annotations_trainval2017.zip’\n",
            "\n",
            "annotations_trainva 100%[===================>] 241.19M  17.1MB/s    in 16s     \n",
            "\n",
            "2019-12-18 15:20:55 (15.3 MB/s) - ‘annotations_trainval2017.zip’ saved [252907541/252907541]\n",
            "\n"
          ],
          "name": "stdout"
        }
      ]
    },
    {
      "cell_type": "code",
      "metadata": {
        "id": "hJIv_nmwDYN9",
        "colab_type": "code",
        "colab": {}
      },
      "source": [
        "!mv annotations_trainval2017.zip data"
      ],
      "execution_count": 0,
      "outputs": []
    },
    {
      "cell_type": "code",
      "metadata": {
        "id": "zn9iyB_EEJie",
        "colab_type": "code",
        "outputId": "48d54b42-97ce-4122-8c4f-de6c6d14eb5a",
        "colab": {
          "base_uri": "https://localhost:8080/",
          "height": 160
        }
      },
      "source": [
        "!cd data && ls && unzip annotations_trainval2017.zip"
      ],
      "execution_count": 11,
      "outputs": [
        {
          "output_type": "stream",
          "text": [
            "annotations_trainval2017.zip  val2017\n",
            "Archive:  annotations_trainval2017.zip\n",
            "  inflating: annotations/instances_train2017.json  \n",
            "  inflating: annotations/instances_val2017.json  \n",
            "  inflating: annotations/captions_train2017.json  \n",
            "  inflating: annotations/captions_val2017.json  \n",
            "  inflating: annotations/person_keypoints_train2017.json  \n",
            "  inflating: annotations/person_keypoints_val2017.json  \n"
          ],
          "name": "stdout"
        }
      ]
    },
    {
      "cell_type": "code",
      "metadata": {
        "id": "3vS0YwQ5JEsp",
        "colab_type": "code",
        "colab": {
          "base_uri": "https://localhost:8080/",
          "height": 53
        },
        "outputId": "aeb490cb-bb68-4096-f71f-6a34c3bfe370"
      },
      "source": [
        "!cd data && ls && rm annotations_trainval2017.zip && rm val2017.zip"
      ],
      "execution_count": 12,
      "outputs": [
        {
          "output_type": "stream",
          "text": [
            "annotations  annotations_trainval2017.zip  val2017\n",
            "rm: cannot remove 'val2017.zip': No such file or directory\n"
          ],
          "name": "stdout"
        }
      ]
    },
    {
      "cell_type": "code",
      "metadata": {
        "id": "oNA2WK-IJP_5",
        "colab_type": "code",
        "colab": {
          "base_uri": "https://localhost:8080/",
          "height": 35
        },
        "outputId": "8d91e464-baf5-4d9f-f409-ae7117915896"
      },
      "source": [
        "!cd data && ls"
      ],
      "execution_count": 13,
      "outputs": [
        {
          "output_type": "stream",
          "text": [
            "annotations  val2017\n"
          ],
          "name": "stdout"
        }
      ]
    },
    {
      "cell_type": "markdown",
      "metadata": {
        "id": "5Ha3ryYxL4uN",
        "colab_type": "text"
      },
      "source": [
        "## SETUP BEGINS HERE!"
      ]
    },
    {
      "cell_type": "code",
      "metadata": {
        "id": "11AYVjhUL-xC",
        "colab_type": "code",
        "colab": {
          "base_uri": "https://localhost:8080/",
          "height": 55
        },
        "outputId": "a4d33d90-4f47-43fb-8f25-cf31ff0b47b3"
      },
      "source": [
        "import tensorflow as tf\n",
        "import numpy as np\n",
        "import matplotlib.pyplot as plt\n",
        "import os\n",
        "import json\n",
        "from PIL import Image"
      ],
      "execution_count": 14,
      "outputs": [
        {
          "output_type": "stream",
          "text": [
            "WARNING:tensorflow:Falling back to tensorflow client, its recommended to install the cloud tpu client directly with pip install cloud-tpu-client .\n"
          ],
          "name": "stdout"
        }
      ]
    },
    {
      "cell_type": "markdown",
      "metadata": {
        "id": "_COOVy_tWJOX",
        "colab_type": "text"
      },
      "source": [
        ""
      ]
    },
    {
      "cell_type": "code",
      "metadata": {
        "id": "-mzRTi674sbh",
        "colab_type": "code",
        "colab": {}
      },
      "source": [
        "DATA_DIR = \"data\"\n",
        "\n",
        "IMG_HEIGHT = 244\n",
        "IMG_WIDTH = 244\n",
        "\n",
        "SEED = 1"
      ],
      "execution_count": 0,
      "outputs": []
    },
    {
      "cell_type": "code",
      "metadata": {
        "id": "70vMKy5e4sbm",
        "colab_type": "code",
        "outputId": "06142db5-d766-4456-f7d8-e80fe307d49e",
        "colab": {
          "base_uri": "https://localhost:8080/",
          "height": 35
        }
      },
      "source": [
        "# Setup GPUs\n",
        "gpus = tf.config.experimental.list_physical_devices('GPU')\n",
        "if gpus:\n",
        "    try:\n",
        "        for gpu in gpus:\n",
        "            tf.config.experimental.set_memory_growth(gpu, True)\n",
        "        logical_gpus = tf.config.experimental.list_logical_devices('GPU')\n",
        "        print(len(gpus), \"Physical GPUs,\", len(logical_gpus), \"Logical GPUs\")\n",
        "    except RuntimeError as e:\n",
        "        print(e)\n"
      ],
      "execution_count": 16,
      "outputs": [
        {
          "output_type": "stream",
          "text": [
            "1 Physical GPUs, 1 Logical GPUs\n"
          ],
          "name": "stdout"
        }
      ]
    },
    {
      "cell_type": "markdown",
      "metadata": {
        "id": "aojpsl_V4sbu",
        "colab_type": "text"
      },
      "source": [
        "# Loading Data"
      ]
    },
    {
      "cell_type": "code",
      "metadata": {
        "id": "_tTzC2Pv4sbv",
        "colab_type": "code",
        "colab": {}
      },
      "source": [
        "# Load Image data\n",
        "image_filenames = {}\n",
        "image_dir = DATA_DIR + \"/val2017/\"\n",
        "\n",
        "for filename in os.listdir(image_dir):\n",
        "    if filename.endswith(\".jpg\"):\n",
        "        image_filenames[int(filename[:-4])] = image_dir + filename"
      ],
      "execution_count": 0,
      "outputs": []
    },
    {
      "cell_type": "code",
      "metadata": {
        "id": "3o36MgP04sb0",
        "colab_type": "code",
        "colab": {}
      },
      "source": [
        "# Load bbox/annotations\n",
        "with open(DATA_DIR + \"/annotations/instances_val2017.json\") as f:\n",
        "    _ = json.load(f)\n",
        "    categories = {entry[\"id\"]:{\n",
        "            \"supercategory\": entry[\"supercategory\"],\n",
        "            \"name\": entry[\"name\"]\n",
        "        } for entry in _[\"categories\"]}\n",
        "    instances = {entry[\"id\"]:{\n",
        "            \"bbox\": tuple(entry[\"bbox\"]),\n",
        "            \"category_id\": entry[\"category_id\"],\n",
        "            \"image_id\": entry[\"image_id\"]\n",
        "        } for entry in _[\"annotations\"]}"
      ],
      "execution_count": 0,
      "outputs": []
    },
    {
      "cell_type": "code",
      "metadata": {
        "id": "7-_p9jzSMJXF",
        "colab_type": "code",
        "colab": {
          "base_uri": "https://localhost:8080/",
          "height": 127
        },
        "outputId": "59abf590-98f0-4c9a-c343-495936c3fa8d"
      },
      "source": [
        "from google.colab import drive\n",
        "drive.mount(\"/content/drive\")"
      ],
      "execution_count": 19,
      "outputs": [
        {
          "output_type": "stream",
          "text": [
            "Go to this URL in a browser: https://accounts.google.com/o/oauth2/auth?client_id=947318989803-6bn6qk8qdgf4n4g3pfee6491hc0brc4i.apps.googleusercontent.com&redirect_uri=urn%3aietf%3awg%3aoauth%3a2.0%3aoob&response_type=code&scope=email%20https%3a%2f%2fwww.googleapis.com%2fauth%2fdocs.test%20https%3a%2f%2fwww.googleapis.com%2fauth%2fdrive%20https%3a%2f%2fwww.googleapis.com%2fauth%2fdrive.photos.readonly%20https%3a%2f%2fwww.googleapis.com%2fauth%2fpeopleapi.readonly\n",
            "\n",
            "Enter your authorization code:\n",
            "··········\n",
            "Mounted at /content/drive\n"
          ],
          "name": "stdout"
        }
      ]
    },
    {
      "cell_type": "markdown",
      "metadata": {
        "id": "H0z4-uKM4sb5",
        "colab_type": "text"
      },
      "source": [
        "# Env setup"
      ]
    },
    {
      "cell_type": "code",
      "metadata": {
        "id": "wLvTO87DKHZn",
        "colab_type": "code",
        "colab": {
          "base_uri": "https://localhost:8080/",
          "height": 35
        },
        "outputId": "60da58cf-917b-40dd-d089-0e2588006016"
      },
      "source": [
        "!cd drive/My\\ Drive/colab_data_folder && ls"
      ],
      "execution_count": 20,
      "outputs": [
        {
          "output_type": "stream",
          "text": [
            "data  multiagent  requirements.txt  setup.py\n"
          ],
          "name": "stdout"
        }
      ]
    },
    {
      "cell_type": "code",
      "metadata": {
        "id": "deeqUoOO4sb6",
        "colab_type": "code",
        "colab": {}
      },
      "source": [
        "import sys\n",
        "sys.path.append(\"drive/My Drive/colab_data_folder\")\n",
        "from multiagent.infrastructure.env import ObjectLocalizationEnv, BetterRewardEnv, MovingEdgeEnv, HierarchicalZoomEnv, StretchyZoomEnv"
      ],
      "execution_count": 0,
      "outputs": []
    },
    {
      "cell_type": "code",
      "metadata": {
        "id": "8XEdFUX-4sb_",
        "colab_type": "code",
        "colab": {
          "base_uri": "https://localhost:8080/",
          "height": 73
        },
        "outputId": "dc81df9e-b28d-497a-bb78-5d1e07e84370"
      },
      "source": [
        "model = tf.keras.models.Sequential(tf.keras.applications.VGG16(weights=\"imagenet\", include_top = True).layers[:-2])"
      ],
      "execution_count": 22,
      "outputs": [
        {
          "output_type": "stream",
          "text": [
            "Downloading data from https://storage.googleapis.com/tensorflow/keras-applications/vgg16/vgg16_weights_tf_dim_ordering_tf_kernels.h5\n",
            "553467904/553467096 [==============================] - 10s 0us/step\n"
          ],
          "name": "stdout"
        }
      ]
    },
    {
      "cell_type": "code",
      "metadata": {
        "id": "4e7viyqV4scE",
        "colab_type": "code",
        "colab": {}
      },
      "source": [
        "og_env = ObjectLocalizationEnv(model, (224, 224), feature_dim = 4096)\n",
        "moving_edge_env = MovingEdgeEnv(model, (244, 244), feature_dim = 4096, transformation_factor = 0.4)\n",
        "zoomzoom_env = HierarchicalZoomEnv(model, (244,244), feature_dim = 4096)\n",
        "stretchyzoom_env = StretchyZoomEnv(model, (244,244), feature_dim = 4096)"
      ],
      "execution_count": 0,
      "outputs": []
    },
    {
      "cell_type": "markdown",
      "metadata": {
        "id": "TGC0BOWZ4scI",
        "colab_type": "text"
      },
      "source": [
        "# Training"
      ]
    },
    {
      "cell_type": "code",
      "metadata": {
        "id": "7Pw3BW30XDNT",
        "colab_type": "code",
        "colab": {
          "base_uri": "https://localhost:8080/",
          "height": 35
        },
        "outputId": "0784d2bd-9457-49df-82fa-4b07ad92239a"
      },
      "source": [
        "!cd drive/My\\ Drive/colab_data_folder/multiagent/infrastructure && ls"
      ],
      "execution_count": 24,
      "outputs": [
        {
          "output_type": "stream",
          "text": [
            "env.py\t__init__.py  __pycache__  rl_trainer2.py  rl_trainer.py  trainer.py\n"
          ],
          "name": "stdout"
        }
      ]
    },
    {
      "cell_type": "code",
      "metadata": {
        "id": "fha0Qyru4scL",
        "colab_type": "code",
        "colab": {}
      },
      "source": [
        "from multiagent.infrastructure.rl_trainer import RL_Trainer\n",
        "from multiagent.agents.dqn_agent import DQN_Agent\n",
        "from multiagent.util.dqn_utils import EpochSchedule"
      ],
      "execution_count": 0,
      "outputs": []
    },
    {
      "cell_type": "code",
      "metadata": {
        "id": "iQMilogU4scW",
        "colab_type": "code",
        "colab": {}
      },
      "source": [
        "agent_params = { #TODO!!!!\n",
        "    \"replay_buffer_size\": 2000,\n",
        "    \"batch_size\": 32,\n",
        "    \"gamma\": 0.1,\n",
        "    \"epsilon\": EpochSchedule(5, final_p = .1, initial_p = 1),\n",
        "    \"dropout\": 0.1\n",
        "}"
      ],
      "execution_count": 0,
      "outputs": []
    },
    {
      "cell_type": "code",
      "metadata": {
        "id": "KCaoSIK_4scZ",
        "colab_type": "code",
        "colab": {}
      },
      "source": [
        "params = {\n",
        "    \"learning_freq\": 1,\n",
        "    \"seed\": SEED,\n",
        "    \"agent_class\": DQN_Agent,\n",
        "    \"optimizer\": tf.keras.optimizers.Adam(learning_rate = 0.001),\n",
        "    \"loss\": tf.keras.losses.Huber(),\n",
        "    \"agent_params\": agent_params,\n",
        "    \"env\": None, #PlaceHolder\n",
        "    \"max_path_length\": 200,\n",
        "    \"model_name\": \"austensux\", #PlaceHolder\n",
        "    \"save_freq\": 0 #Manually save after every epoch\n",
        "}"
      ],
      "execution_count": 0,
      "outputs": []
    },
    {
      "cell_type": "markdown",
      "metadata": {
        "id": "GNQnKoBC4scd",
        "colab_type": "text"
      },
      "source": [
        "## Curating category-specific data"
      ]
    },
    {
      "cell_type": "code",
      "metadata": {
        "id": "rMa050KW4sce",
        "colab_type": "code",
        "colab": {}
      },
      "source": [
        "CATEGORY_ID = 1\n",
        "NUM_EPOCHS = 15"
      ],
      "execution_count": 0,
      "outputs": []
    },
    {
      "cell_type": "code",
      "metadata": {
        "id": "6SclnIHN4sch",
        "colab_type": "code",
        "outputId": "5921dd25-dac8-4226-c190-fac7c852e3bb",
        "colab": {
          "base_uri": "https://localhost:8080/",
          "height": 35
        }
      },
      "source": [
        "from multiagent.util.data import find_all_instances, find_image_ids_with_category, process_image_filename, stream_images\n",
        "\n",
        "category_image_ids = find_image_ids_with_category(instances, CATEGORY_ID)\n",
        "print(\"{} images that include at least one instance of '{}'\".format(len(category_image_ids), categories[CATEGORY_ID][\"name\"]))"
      ],
      "execution_count": 29,
      "outputs": [
        {
          "output_type": "stream",
          "text": [
            "2693 images that include at least one instance of 'person'\n"
          ],
          "name": "stdout"
        }
      ]
    },
    {
      "cell_type": "code",
      "metadata": {
        "id": "ZEGoopxn4scl",
        "colab_type": "code",
        "colab": {}
      },
      "source": [
        "category_images = stream_images(category_image_ids, image_filenames)"
      ],
      "execution_count": 0,
      "outputs": []
    },
    {
      "cell_type": "markdown",
      "metadata": {
        "id": "oZEvVpzm4scp",
        "colab_type": "text"
      },
      "source": [
        "## Training Loop"
      ]
    },
    {
      "cell_type": "code",
      "metadata": {
        "id": "uREJbYZ64scq",
        "colab_type": "code",
        "colab": {}
      },
      "source": [
        "from copy import deepcopy"
      ],
      "execution_count": 0,
      "outputs": []
    },
    {
      "cell_type": "code",
      "metadata": {
        "id": "BIY9s9ZO4scv",
        "colab_type": "code",
        "colab": {}
      },
      "source": [
        "current_agent_params = deepcopy(agent_params)\n",
        "\n",
        "params['env'] = og_env\n",
        "params['model_name'] = \"caceido\"\n",
        "params['agent_params'] = current_agent_params"
      ],
      "execution_count": 0,
      "outputs": []
    },
    {
      "cell_type": "code",
      "metadata": {
        "id": "IUHQLWVj4scy",
        "colab_type": "code",
        "colab": {}
      },
      "source": [
        "trainer = RL_Trainer(params=params)"
      ],
      "execution_count": 0,
      "outputs": []
    },
    {
      "cell_type": "code",
      "metadata": {
        "id": "8pU4LxmkNm5f",
        "colab_type": "code",
        "colab": {
          "base_uri": "https://localhost:8080/",
          "height": 109
        },
        "outputId": "f4fbf553-2409-4039-d27d-4d29d202f5bf"
      },
      "source": [
        "tf.test.is_gpu_available()"
      ],
      "execution_count": 34,
      "outputs": [
        {
          "output_type": "stream",
          "text": [
            "WARNING:tensorflow:From <ipython-input-34-17bb7203622b>:1: is_gpu_available (from tensorflow.python.framework.test_util) is deprecated and will be removed in a future version.\n",
            "Instructions for updating:\n",
            "Use `tf.config.list_physical_devices('GPU')` instead.\n"
          ],
          "name": "stdout"
        },
        {
          "output_type": "execute_result",
          "data": {
            "text/plain": [
              "True"
            ]
          },
          "metadata": {
            "tags": []
          },
          "execution_count": 34
        }
      ]
    },
    {
      "cell_type": "code",
      "metadata": {
        "id": "1GdEjlGDROua",
        "colab_type": "code",
        "colab": {
          "base_uri": "https://localhost:8080/",
          "height": 35
        },
        "outputId": "ea506839-173b-49c7-fe89-d87b6a5d996c"
      },
      "source": [
        "tf.__version__"
      ],
      "execution_count": 35,
      "outputs": [
        {
          "output_type": "execute_result",
          "data": {
            "text/plain": [
              "'2.1.0-dev20191218'"
            ]
          },
          "metadata": {
            "tags": []
          },
          "execution_count": 35
        }
      ]
    },
    {
      "cell_type": "code",
      "metadata": {
        "scrolled": false,
        "id": "p-8mHR6J4sc2",
        "colab_type": "code",
        "colab": {
          "base_uri": "https://localhost:8080/",
          "height": 1000
        },
        "outputId": "bfefdb59-3452-4a10-a717-b884adb5382a"
      },
      "source": [
        "import time\n",
        "start_time = time.time()\n",
        "\n",
        "for epoch_iter in range(NUM_EPOCHS):\n",
        "    \n",
        "#     if epoch_iter:\n",
        "#         trainer.agent.q_func = tf.keras.models.load_model(\"models/{}/epoch{}\".format(params['model_name'], epoch_iter - 1))\n",
        "    \n",
        "    avg_returns = []\n",
        "    avg_losses = []\n",
        "    current_image_iter = 0\n",
        "    for image_id, image_tensor in category_images:\n",
        "        current_image_iter += 1\n",
        "        print(\"\\n\\n####### Image {} of {} in Epoch {}\".format(current_image_iter, len(category_image_ids), epoch_iter))\n",
        "        \n",
        "        keys, target_bboxs = find_all_instances(instances, image_id, CATEGORY_ID)\n",
        "        image_tensor = tf.expand_dims(image_tensor, 0)\n",
        "        \n",
        "        trainer.env.training_reset(target_bboxs, image_tensor)\n",
        "        returns, losses = trainer.run_training_loop(1, start_time = start_time, verbose = current_image_iter % 1000 == 0)\n",
        "        avg_returns.append(np.average(returns))\n",
        "        avg_losses.append(np.average(losses))\n",
        "        \n",
        "        print(\"{} unfound instances out of {}\".format(len(trainer.env.target_bboxs), len(trainer.env.orig_target_bboxs)))\n",
        "        \n",
        "        \n",
        "    trainer.agent.epsilon.increment_epoch()\n",
        "    \n",
        "    # Saving progress and metrics\n",
        "    trainer.agent.q_func.save(\"drive/My Drive/models/{}/epoch{}/\".format(params['model_name'], epoch_iter))\n",
        "    np.save(\"drive/My Drive/models/returns{}_epoch{}.npy\".format(params['model_name'], epoch_iter), avg_returns)\n",
        "    np.save(\"drive/My Drive/models/losses{}_epoch{}.npy\".format(params['model_name'], epoch_iter), avg_losses)\n",
        "    \n",
        "    \n",
        "    "
      ],
      "execution_count": 0,
      "outputs": [
        {
          "output_type": "stream",
          "text": [
            "\n",
            "\n",
            "####### Image 1 of 2693 in Epoch 0\n",
            "********** Iteration 0 ************\n",
            "LOSS:  \t 0.26612073\n",
            "1 unfound instances out of 2\n",
            "\n",
            "\n",
            "####### Image 2 of 2693 in Epoch 0\n",
            "********** Iteration 0 ************\n",
            "LOSS:  \t 0.93687683\n",
            "2 unfound instances out of 4\n",
            "\n",
            "\n",
            "####### Image 3 of 2693 in Epoch 0\n",
            "********** Iteration 0 ************\n",
            "LOSS:  \t 1.6783472\n",
            "0 unfound instances out of 1\n",
            "\n",
            "\n",
            "####### Image 4 of 2693 in Epoch 0\n",
            "********** Iteration 0 ************\n",
            "LOSS:  \t 1.3096833\n",
            "1 unfound instances out of 1\n",
            "\n",
            "\n",
            "####### Image 5 of 2693 in Epoch 0\n",
            "********** Iteration 0 ************\n",
            "LOSS:  \t 0.73359704\n",
            "0 unfound instances out of 1\n",
            "\n",
            "\n",
            "####### Image 6 of 2693 in Epoch 0\n",
            "********** Iteration 0 ************\n",
            "LOSS:  \t 0.81859714\n",
            "0 unfound instances out of 1\n",
            "\n",
            "\n",
            "####### Image 7 of 2693 in Epoch 0\n",
            "********** Iteration 0 ************\n",
            "LOSS:  \t 0.70619845\n",
            "0 unfound instances out of 2\n",
            "\n",
            "\n",
            "####### Image 8 of 2693 in Epoch 0\n",
            "********** Iteration 0 ************\n",
            "LOSS:  \t 0.6116785\n",
            "2 unfound instances out of 4\n",
            "\n",
            "\n",
            "####### Image 9 of 2693 in Epoch 0\n",
            "********** Iteration 0 ************\n",
            "LOSS:  \t 0.726773\n",
            "0 unfound instances out of 1\n",
            "\n",
            "\n",
            "####### Image 10 of 2693 in Epoch 0\n",
            "********** Iteration 0 ************\n",
            "LOSS:  \t 0.8006789\n",
            "2 unfound instances out of 4\n",
            "\n",
            "\n",
            "####### Image 11 of 2693 in Epoch 0\n",
            "********** Iteration 0 ************\n",
            "LOSS:  \t 0.6264918\n",
            "0 unfound instances out of 1\n",
            "\n",
            "\n",
            "####### Image 12 of 2693 in Epoch 0\n",
            "********** Iteration 0 ************\n",
            "LOSS:  \t 0.5705569\n",
            "0 unfound instances out of 1\n",
            "\n",
            "\n",
            "####### Image 13 of 2693 in Epoch 0\n",
            "********** Iteration 0 ************\n",
            "LOSS:  \t 0.46183968\n",
            "1 unfound instances out of 2\n",
            "\n",
            "\n",
            "####### Image 14 of 2693 in Epoch 0\n",
            "********** Iteration 0 ************\n",
            "LOSS:  \t 0.33856142\n",
            "0 unfound instances out of 3\n",
            "\n",
            "\n",
            "####### Image 15 of 2693 in Epoch 0\n",
            "********** Iteration 0 ************\n",
            "LOSS:  \t 0.24521987\n",
            "3 unfound instances out of 7\n",
            "\n",
            "\n",
            "####### Image 16 of 2693 in Epoch 0\n",
            "********** Iteration 0 ************\n",
            "LOSS:  \t 0.3167585\n",
            "1 unfound instances out of 1\n",
            "\n",
            "\n",
            "####### Image 17 of 2693 in Epoch 0\n",
            "********** Iteration 0 ************\n",
            "LOSS:  \t 0.2542988\n",
            "0 unfound instances out of 2\n",
            "\n",
            "\n",
            "####### Image 18 of 2693 in Epoch 0\n",
            "********** Iteration 0 ************\n",
            "LOSS:  \t 0.086027354\n",
            "3 unfound instances out of 4\n",
            "\n",
            "\n",
            "####### Image 19 of 2693 in Epoch 0\n",
            "********** Iteration 0 ************\n",
            "LOSS:  \t 0.09562734\n",
            "7 unfound instances out of 14\n",
            "\n",
            "\n",
            "####### Image 20 of 2693 in Epoch 0\n",
            "********** Iteration 0 ************\n",
            "LOSS:  \t 0.11503349\n",
            "0 unfound instances out of 4\n",
            "\n",
            "\n",
            "####### Image 21 of 2693 in Epoch 0\n",
            "********** Iteration 0 ************\n",
            "LOSS:  \t 0.091642\n",
            "0 unfound instances out of 1\n",
            "\n",
            "\n",
            "####### Image 22 of 2693 in Epoch 0\n",
            "********** Iteration 0 ************\n",
            "LOSS:  \t 0.07742723\n",
            "1 unfound instances out of 1\n",
            "\n",
            "\n",
            "####### Image 23 of 2693 in Epoch 0\n",
            "********** Iteration 0 ************\n",
            "LOSS:  \t 0.058793053\n",
            "1 unfound instances out of 1\n",
            "\n",
            "\n",
            "####### Image 24 of 2693 in Epoch 0\n",
            "********** Iteration 0 ************\n",
            "LOSS:  \t 0.053958997\n",
            "1 unfound instances out of 1\n",
            "\n",
            "\n",
            "####### Image 25 of 2693 in Epoch 0\n",
            "********** Iteration 0 ************\n",
            "LOSS:  \t 0.100276604\n",
            "0 unfound instances out of 5\n",
            "\n",
            "\n",
            "####### Image 26 of 2693 in Epoch 0\n",
            "********** Iteration 0 ************\n",
            "LOSS:  \t 0.08138835\n",
            "7 unfound instances out of 14\n",
            "\n",
            "\n",
            "####### Image 27 of 2693 in Epoch 0\n",
            "********** Iteration 0 ************\n",
            "LOSS:  \t 0.08361012\n",
            "1 unfound instances out of 6\n",
            "\n",
            "\n",
            "####### Image 28 of 2693 in Epoch 0\n",
            "********** Iteration 0 ************\n",
            "LOSS:  \t 0.07611635\n",
            "4 unfound instances out of 6\n",
            "\n",
            "\n",
            "####### Image 29 of 2693 in Epoch 0\n",
            "********** Iteration 0 ************\n",
            "LOSS:  \t 0.06857291\n",
            "2 unfound instances out of 3\n",
            "\n",
            "\n",
            "####### Image 30 of 2693 in Epoch 0\n",
            "********** Iteration 0 ************\n",
            "LOSS:  \t 0.09771425\n",
            "0 unfound instances out of 2\n",
            "\n",
            "\n",
            "####### Image 31 of 2693 in Epoch 0\n",
            "********** Iteration 0 ************\n",
            "LOSS:  \t 0.051047347\n",
            "4 unfound instances out of 14\n",
            "\n",
            "\n",
            "####### Image 32 of 2693 in Epoch 0\n",
            "********** Iteration 0 ************\n",
            "LOSS:  \t 0.04754606\n",
            "1 unfound instances out of 3\n",
            "\n",
            "\n",
            "####### Image 33 of 2693 in Epoch 0\n",
            "********** Iteration 0 ************\n",
            "LOSS:  \t 0.061814733\n",
            "1 unfound instances out of 2\n",
            "\n",
            "\n",
            "####### Image 34 of 2693 in Epoch 0\n",
            "********** Iteration 0 ************\n",
            "LOSS:  \t 0.077389926\n",
            "0 unfound instances out of 1\n",
            "\n",
            "\n",
            "####### Image 35 of 2693 in Epoch 0\n",
            "********** Iteration 0 ************\n",
            "LOSS:  \t 0.058826685\n",
            "0 unfound instances out of 1\n",
            "\n",
            "\n",
            "####### Image 36 of 2693 in Epoch 0\n",
            "********** Iteration 0 ************\n",
            "LOSS:  \t 0.06079547\n",
            "0 unfound instances out of 1\n",
            "\n",
            "\n",
            "####### Image 37 of 2693 in Epoch 0\n",
            "********** Iteration 0 ************\n",
            "LOSS:  \t 0.060799196\n",
            "2 unfound instances out of 3\n",
            "\n",
            "\n",
            "####### Image 38 of 2693 in Epoch 0\n",
            "********** Iteration 0 ************\n",
            "LOSS:  \t 0.04898842\n",
            "0 unfound instances out of 1\n",
            "\n",
            "\n",
            "####### Image 39 of 2693 in Epoch 0\n",
            "********** Iteration 0 ************\n",
            "LOSS:  \t 0.08567046\n",
            "0 unfound instances out of 1\n",
            "\n",
            "\n",
            "####### Image 40 of 2693 in Epoch 0\n",
            "********** Iteration 0 ************\n",
            "LOSS:  \t 0.049011756\n",
            "0 unfound instances out of 1\n",
            "\n",
            "\n",
            "####### Image 41 of 2693 in Epoch 0\n",
            "********** Iteration 0 ************\n",
            "LOSS:  \t 0.05567716\n",
            "0 unfound instances out of 2\n",
            "\n",
            "\n",
            "####### Image 42 of 2693 in Epoch 0\n",
            "********** Iteration 0 ************\n",
            "LOSS:  \t 0.08015057\n",
            "1 unfound instances out of 3\n",
            "\n",
            "\n",
            "####### Image 43 of 2693 in Epoch 0\n",
            "********** Iteration 0 ************\n",
            "LOSS:  \t 0.063572735\n",
            "1 unfound instances out of 4\n",
            "\n",
            "\n",
            "####### Image 44 of 2693 in Epoch 0\n",
            "********** Iteration 0 ************\n",
            "LOSS:  \t 0.07898208\n",
            "0 unfound instances out of 1\n",
            "\n",
            "\n",
            "####### Image 45 of 2693 in Epoch 0\n",
            "********** Iteration 0 ************\n",
            "LOSS:  \t 0.057826597\n",
            "0 unfound instances out of 2\n",
            "\n",
            "\n",
            "####### Image 46 of 2693 in Epoch 0\n",
            "********** Iteration 0 ************\n",
            "LOSS:  \t 0.064057514\n",
            "0 unfound instances out of 1\n",
            "\n",
            "\n",
            "####### Image 47 of 2693 in Epoch 0\n",
            "********** Iteration 0 ************\n",
            "LOSS:  \t 0.070514046\n",
            "1 unfound instances out of 5\n",
            "\n",
            "\n",
            "####### Image 48 of 2693 in Epoch 0\n",
            "********** Iteration 0 ************\n",
            "LOSS:  \t 0.059771292\n",
            "0 unfound instances out of 1\n",
            "\n",
            "\n",
            "####### Image 49 of 2693 in Epoch 0\n",
            "********** Iteration 0 ************\n",
            "LOSS:  \t 0.06639371\n",
            "0 unfound instances out of 2\n",
            "\n",
            "\n",
            "####### Image 50 of 2693 in Epoch 0\n",
            "********** Iteration 0 ************\n",
            "LOSS:  \t 0.06350364\n",
            "0 unfound instances out of 1\n",
            "\n",
            "\n",
            "####### Image 51 of 2693 in Epoch 0\n",
            "********** Iteration 0 ************\n",
            "LOSS:  \t 0.05538793\n",
            "9 unfound instances out of 11\n",
            "\n",
            "\n",
            "####### Image 52 of 2693 in Epoch 0\n",
            "********** Iteration 0 ************\n",
            "LOSS:  \t 0.060839362\n",
            "1 unfound instances out of 3\n",
            "\n",
            "\n",
            "####### Image 53 of 2693 in Epoch 0\n",
            "********** Iteration 0 ************\n",
            "LOSS:  \t 0.058093946\n",
            "0 unfound instances out of 2\n",
            "\n",
            "\n",
            "####### Image 54 of 2693 in Epoch 0\n",
            "********** Iteration 0 ************\n",
            "LOSS:  \t 0.04550329\n",
            "0 unfound instances out of 1\n",
            "\n",
            "\n",
            "####### Image 55 of 2693 in Epoch 0\n",
            "********** Iteration 0 ************\n",
            "LOSS:  \t 0.050071135\n",
            "2 unfound instances out of 3\n",
            "\n",
            "\n",
            "####### Image 56 of 2693 in Epoch 0\n",
            "********** Iteration 0 ************\n",
            "LOSS:  \t 0.07672078\n",
            "0 unfound instances out of 1\n",
            "\n",
            "\n",
            "####### Image 57 of 2693 in Epoch 0\n",
            "********** Iteration 0 ************\n",
            "LOSS:  \t 0.05796282\n",
            "0 unfound instances out of 1\n",
            "\n",
            "\n",
            "####### Image 58 of 2693 in Epoch 0\n",
            "********** Iteration 0 ************\n",
            "LOSS:  \t 0.059935935\n",
            "0 unfound instances out of 2\n",
            "\n",
            "\n",
            "####### Image 59 of 2693 in Epoch 0\n",
            "********** Iteration 0 ************\n",
            "LOSS:  \t 0.054861538\n",
            "0 unfound instances out of 1\n",
            "\n",
            "\n",
            "####### Image 60 of 2693 in Epoch 0\n",
            "********** Iteration 0 ************\n",
            "LOSS:  \t 0.044843085\n",
            "3 unfound instances out of 4\n",
            "\n",
            "\n",
            "####### Image 61 of 2693 in Epoch 0\n",
            "********** Iteration 0 ************\n",
            "LOSS:  \t 0.04749797\n",
            "0 unfound instances out of 1\n",
            "\n",
            "\n",
            "####### Image 62 of 2693 in Epoch 0\n",
            "********** Iteration 0 ************\n",
            "LOSS:  \t 0.07607412\n",
            "6 unfound instances out of 13\n",
            "\n",
            "\n",
            "####### Image 63 of 2693 in Epoch 0\n",
            "********** Iteration 0 ************\n",
            "LOSS:  \t 0.037582204\n",
            "0 unfound instances out of 3\n",
            "\n",
            "\n",
            "####### Image 64 of 2693 in Epoch 0\n",
            "********** Iteration 0 ************\n",
            "LOSS:  \t 0.047186296\n",
            "0 unfound instances out of 1\n",
            "\n",
            "\n",
            "####### Image 65 of 2693 in Epoch 0\n",
            "********** Iteration 0 ************\n",
            "LOSS:  \t 0.07049316\n",
            "1 unfound instances out of 3\n",
            "\n",
            "\n",
            "####### Image 66 of 2693 in Epoch 0\n",
            "********** Iteration 0 ************\n",
            "LOSS:  \t 0.058656797\n",
            "0 unfound instances out of 1\n",
            "\n",
            "\n",
            "####### Image 67 of 2693 in Epoch 0\n",
            "********** Iteration 0 ************\n",
            "LOSS:  \t 0.06871423\n",
            "0 unfound instances out of 3\n",
            "\n",
            "\n",
            "####### Image 68 of 2693 in Epoch 0\n",
            "********** Iteration 0 ************\n",
            "LOSS:  \t 0.04549759\n",
            "1 unfound instances out of 4\n",
            "\n",
            "\n",
            "####### Image 69 of 2693 in Epoch 0\n",
            "********** Iteration 0 ************\n",
            "LOSS:  \t 0.063729644\n",
            "0 unfound instances out of 1\n",
            "\n",
            "\n",
            "####### Image 70 of 2693 in Epoch 0\n",
            "********** Iteration 0 ************\n",
            "LOSS:  \t 0.036014553\n",
            "1 unfound instances out of 3\n",
            "\n",
            "\n",
            "####### Image 71 of 2693 in Epoch 0\n",
            "********** Iteration 0 ************\n",
            "LOSS:  \t 0.0566263\n",
            "8 unfound instances out of 14\n",
            "\n",
            "\n",
            "####### Image 72 of 2693 in Epoch 0\n",
            "********** Iteration 0 ************\n",
            "LOSS:  \t 0.040594883\n",
            "0 unfound instances out of 2\n",
            "\n",
            "\n",
            "####### Image 73 of 2693 in Epoch 0\n",
            "********** Iteration 0 ************\n",
            "LOSS:  \t 0.043306116\n",
            "7 unfound instances out of 12\n",
            "\n",
            "\n",
            "####### Image 74 of 2693 in Epoch 0\n",
            "********** Iteration 0 ************\n",
            "LOSS:  \t 0.051143244\n",
            "0 unfound instances out of 1\n",
            "\n",
            "\n",
            "####### Image 75 of 2693 in Epoch 0\n",
            "********** Iteration 0 ************\n",
            "LOSS:  \t 0.050788045\n",
            "5 unfound instances out of 9\n",
            "\n",
            "\n",
            "####### Image 76 of 2693 in Epoch 0\n",
            "********** Iteration 0 ************\n",
            "LOSS:  \t 0.05614044\n",
            "0 unfound instances out of 1\n",
            "\n",
            "\n",
            "####### Image 77 of 2693 in Epoch 0\n",
            "********** Iteration 0 ************\n",
            "LOSS:  \t 0.043936715\n",
            "2 unfound instances out of 6\n",
            "\n",
            "\n",
            "####### Image 78 of 2693 in Epoch 0\n",
            "********** Iteration 0 ************\n",
            "LOSS:  \t 0.046361282\n",
            "2 unfound instances out of 3\n",
            "\n",
            "\n",
            "####### Image 79 of 2693 in Epoch 0\n",
            "********** Iteration 0 ************\n",
            "LOSS:  \t 0.046119384\n",
            "2 unfound instances out of 5\n",
            "\n",
            "\n",
            "####### Image 80 of 2693 in Epoch 0\n",
            "********** Iteration 0 ************\n",
            "LOSS:  \t 0.049527347\n",
            "0 unfound instances out of 1\n",
            "\n",
            "\n",
            "####### Image 81 of 2693 in Epoch 0\n",
            "********** Iteration 0 ************\n",
            "LOSS:  \t 0.049816143\n",
            "0 unfound instances out of 1\n",
            "\n",
            "\n",
            "####### Image 82 of 2693 in Epoch 0\n",
            "********** Iteration 0 ************\n",
            "LOSS:  \t 0.0526621\n",
            "8 unfound instances out of 11\n",
            "\n",
            "\n",
            "####### Image 83 of 2693 in Epoch 0\n",
            "********** Iteration 0 ************\n",
            "LOSS:  \t 0.046329245\n",
            "0 unfound instances out of 2\n",
            "\n",
            "\n",
            "####### Image 84 of 2693 in Epoch 0\n",
            "********** Iteration 0 ************\n",
            "LOSS:  \t 0.05133638\n",
            "10 unfound instances out of 14\n",
            "\n",
            "\n",
            "####### Image 85 of 2693 in Epoch 0\n",
            "********** Iteration 0 ************\n",
            "LOSS:  \t 0.04656252\n",
            "0 unfound instances out of 1\n",
            "\n",
            "\n",
            "####### Image 86 of 2693 in Epoch 0\n",
            "********** Iteration 0 ************\n",
            "LOSS:  \t 0.05891184\n",
            "3 unfound instances out of 7\n",
            "\n",
            "\n",
            "####### Image 87 of 2693 in Epoch 0\n",
            "********** Iteration 0 ************\n",
            "LOSS:  \t 0.037311886\n",
            "0 unfound instances out of 2\n",
            "\n",
            "\n",
            "####### Image 88 of 2693 in Epoch 0\n",
            "********** Iteration 0 ************\n",
            "LOSS:  \t 0.067168355\n",
            "9 unfound instances out of 14\n",
            "\n",
            "\n",
            "####### Image 89 of 2693 in Epoch 0\n",
            "********** Iteration 0 ************\n",
            "LOSS:  \t 0.043555483\n",
            "1 unfound instances out of 2\n",
            "\n",
            "\n",
            "####### Image 90 of 2693 in Epoch 0\n",
            "********** Iteration 0 ************\n",
            "LOSS:  \t 0.046447117\n",
            "0 unfound instances out of 1\n",
            "\n",
            "\n",
            "####### Image 91 of 2693 in Epoch 0\n",
            "********** Iteration 0 ************\n",
            "LOSS:  \t 0.0412079\n",
            "1 unfound instances out of 2\n",
            "\n",
            "\n",
            "####### Image 92 of 2693 in Epoch 0\n",
            "********** Iteration 0 ************\n",
            "LOSS:  \t 0.043856293\n",
            "1 unfound instances out of 3\n",
            "\n",
            "\n",
            "####### Image 93 of 2693 in Epoch 0\n",
            "********** Iteration 0 ************\n",
            "LOSS:  \t 0.058317702\n",
            "5 unfound instances out of 9\n",
            "\n",
            "\n",
            "####### Image 94 of 2693 in Epoch 0\n",
            "********** Iteration 0 ************\n",
            "LOSS:  \t 0.06784926\n",
            "8 unfound instances out of 9\n",
            "\n",
            "\n",
            "####### Image 95 of 2693 in Epoch 0\n",
            "********** Iteration 0 ************\n",
            "LOSS:  \t 0.045436133\n",
            "0 unfound instances out of 3\n",
            "\n",
            "\n",
            "####### Image 96 of 2693 in Epoch 0\n",
            "********** Iteration 0 ************\n",
            "LOSS:  \t 0.06300782\n",
            "4 unfound instances out of 7\n",
            "\n",
            "\n",
            "####### Image 97 of 2693 in Epoch 0\n",
            "********** Iteration 0 ************\n",
            "LOSS:  \t 0.047302525\n",
            "0 unfound instances out of 1\n",
            "\n",
            "\n",
            "####### Image 98 of 2693 in Epoch 0\n",
            "********** Iteration 0 ************\n",
            "LOSS:  \t 0.06095322\n",
            "4 unfound instances out of 9\n",
            "\n",
            "\n",
            "####### Image 99 of 2693 in Epoch 0\n",
            "********** Iteration 0 ************\n",
            "LOSS:  \t 0.039980557\n",
            "0 unfound instances out of 1\n",
            "\n",
            "\n",
            "####### Image 100 of 2693 in Epoch 0\n",
            "********** Iteration 0 ************\n",
            "LOSS:  \t 0.062100444\n",
            "0 unfound instances out of 1\n",
            "\n",
            "\n",
            "####### Image 101 of 2693 in Epoch 0\n",
            "********** Iteration 0 ************\n",
            "LOSS:  \t 0.06534245\n",
            "0 unfound instances out of 4\n",
            "\n",
            "\n",
            "####### Image 102 of 2693 in Epoch 0\n",
            "********** Iteration 0 ************\n",
            "LOSS:  \t 0.06491958\n",
            "1 unfound instances out of 2\n",
            "\n",
            "\n",
            "####### Image 103 of 2693 in Epoch 0\n",
            "********** Iteration 0 ************\n",
            "LOSS:  \t 0.058438282\n",
            "1 unfound instances out of 2\n",
            "\n",
            "\n",
            "####### Image 104 of 2693 in Epoch 0\n",
            "********** Iteration 0 ************\n",
            "LOSS:  \t 0.050433233\n",
            "2 unfound instances out of 11\n",
            "\n",
            "\n",
            "####### Image 105 of 2693 in Epoch 0\n",
            "********** Iteration 0 ************\n",
            "LOSS:  \t 0.0685768\n",
            "2 unfound instances out of 5\n",
            "\n",
            "\n",
            "####### Image 106 of 2693 in Epoch 0\n",
            "********** Iteration 0 ************\n",
            "LOSS:  \t 0.05847546\n",
            "8 unfound instances out of 11\n",
            "\n",
            "\n",
            "####### Image 107 of 2693 in Epoch 0\n",
            "********** Iteration 0 ************\n",
            "LOSS:  \t 0.07089797\n",
            "3 unfound instances out of 6\n",
            "\n",
            "\n",
            "####### Image 108 of 2693 in Epoch 0\n",
            "********** Iteration 0 ************\n",
            "LOSS:  \t 0.04413995\n",
            "0 unfound instances out of 1\n",
            "\n",
            "\n",
            "####### Image 109 of 2693 in Epoch 0\n",
            "********** Iteration 0 ************\n",
            "LOSS:  \t 0.05578357\n",
            "0 unfound instances out of 2\n",
            "\n",
            "\n",
            "####### Image 110 of 2693 in Epoch 0\n",
            "********** Iteration 0 ************\n",
            "LOSS:  \t 0.07453458\n",
            "0 unfound instances out of 1\n",
            "\n",
            "\n",
            "####### Image 111 of 2693 in Epoch 0\n",
            "********** Iteration 0 ************\n",
            "LOSS:  \t 0.03414449\n",
            "0 unfound instances out of 1\n",
            "\n",
            "\n",
            "####### Image 112 of 2693 in Epoch 0\n",
            "********** Iteration 0 ************\n",
            "LOSS:  \t 0.070785165\n",
            "0 unfound instances out of 1\n",
            "\n",
            "\n",
            "####### Image 113 of 2693 in Epoch 0\n",
            "********** Iteration 0 ************\n",
            "LOSS:  \t 0.074161924\n",
            "0 unfound instances out of 3\n",
            "\n",
            "\n",
            "####### Image 114 of 2693 in Epoch 0\n",
            "********** Iteration 0 ************\n",
            "LOSS:  \t 0.050954025\n",
            "0 unfound instances out of 3\n",
            "\n",
            "\n",
            "####### Image 115 of 2693 in Epoch 0\n",
            "********** Iteration 0 ************\n",
            "LOSS:  \t 0.056688648\n",
            "3 unfound instances out of 6\n",
            "\n",
            "\n",
            "####### Image 116 of 2693 in Epoch 0\n",
            "********** Iteration 0 ************\n",
            "LOSS:  \t 0.05776573\n",
            "0 unfound instances out of 1\n",
            "\n",
            "\n",
            "####### Image 117 of 2693 in Epoch 0\n",
            "********** Iteration 0 ************\n",
            "LOSS:  \t 0.034515597\n",
            "2 unfound instances out of 4\n",
            "\n",
            "\n",
            "####### Image 118 of 2693 in Epoch 0\n",
            "********** Iteration 0 ************\n",
            "LOSS:  \t 0.071386725\n",
            "3 unfound instances out of 4\n",
            "\n",
            "\n",
            "####### Image 119 of 2693 in Epoch 0\n",
            "********** Iteration 0 ************\n",
            "LOSS:  \t 0.045174137\n",
            "8 unfound instances out of 14\n",
            "\n",
            "\n",
            "####### Image 120 of 2693 in Epoch 0\n",
            "********** Iteration 0 ************\n",
            "LOSS:  \t 0.045271486\n",
            "0 unfound instances out of 1\n",
            "\n",
            "\n",
            "####### Image 121 of 2693 in Epoch 0\n",
            "********** Iteration 0 ************\n",
            "LOSS:  \t 0.069104\n",
            "0 unfound instances out of 1\n",
            "\n",
            "\n",
            "####### Image 122 of 2693 in Epoch 0\n",
            "********** Iteration 0 ************\n",
            "LOSS:  \t 0.04476414\n",
            "0 unfound instances out of 1\n",
            "\n",
            "\n",
            "####### Image 123 of 2693 in Epoch 0\n",
            "********** Iteration 0 ************\n",
            "LOSS:  \t 0.057409033\n",
            "0 unfound instances out of 1\n",
            "\n",
            "\n",
            "####### Image 124 of 2693 in Epoch 0\n",
            "********** Iteration 0 ************\n",
            "LOSS:  \t 0.059565347\n",
            "0 unfound instances out of 1\n",
            "\n",
            "\n",
            "####### Image 125 of 2693 in Epoch 0\n",
            "********** Iteration 0 ************\n",
            "LOSS:  \t 0.04155169\n",
            "0 unfound instances out of 5\n",
            "\n",
            "\n",
            "####### Image 126 of 2693 in Epoch 0\n",
            "********** Iteration 0 ************\n",
            "LOSS:  \t 0.060217544\n",
            "0 unfound instances out of 1\n",
            "\n",
            "\n",
            "####### Image 127 of 2693 in Epoch 0\n",
            "********** Iteration 0 ************\n",
            "LOSS:  \t 0.035007153\n",
            "0 unfound instances out of 1\n",
            "\n",
            "\n",
            "####### Image 128 of 2693 in Epoch 0\n",
            "********** Iteration 0 ************\n",
            "LOSS:  \t 0.04581881\n",
            "0 unfound instances out of 3\n",
            "\n",
            "\n",
            "####### Image 129 of 2693 in Epoch 0\n",
            "********** Iteration 0 ************\n",
            "LOSS:  \t 0.05581315\n",
            "0 unfound instances out of 1\n",
            "\n",
            "\n",
            "####### Image 130 of 2693 in Epoch 0\n",
            "********** Iteration 0 ************\n",
            "LOSS:  \t 0.052254185\n",
            "0 unfound instances out of 1\n",
            "\n",
            "\n",
            "####### Image 131 of 2693 in Epoch 0\n",
            "********** Iteration 0 ************\n",
            "LOSS:  \t 0.042807\n",
            "0 unfound instances out of 4\n",
            "\n",
            "\n",
            "####### Image 132 of 2693 in Epoch 0\n",
            "********** Iteration 0 ************\n"
          ],
          "name": "stdout"
        }
      ]
    },
    {
      "cell_type": "code",
      "metadata": {
        "id": "dJPPc4zn4sc5",
        "colab_type": "code",
        "colab": {
          "base_uri": "https://localhost:8080/",
          "height": 53
        },
        "outputId": "ddc7a609-a999-430a-953c-25c6f731a5ba"
      },
      "source": [
        "trainer.agent.epsilon.increment_epoch()\n",
        "trainer.agent.q_func.save(\"drive/My Drive/models/{}/epoch{}/\".format(params['model_name'], epoch_iter))\n",
        "np.save(\"drive/My Drive/models/returns{}_epoch{}.npy\".format(params['model_name'], epoch_iter), avg_returns)\n",
        "np.save(\"drive/My Drive/models/losses{}_epoch{}.npy\".format(params['model_name'], epoch_iter), avg_losses)\n"
      ],
      "execution_count": 27,
      "outputs": [
        {
          "output_type": "stream",
          "text": [
            "INFO:tensorflow:Assets written to: drive/My Drive/models/caceido/epoch0/assets\n"
          ],
          "name": "stdout"
        },
        {
          "output_type": "stream",
          "text": [
            "INFO:tensorflow:Assets written to: drive/My Drive/models/caceido/epoch0/assets\n"
          ],
          "name": "stderr"
        }
      ]
    },
    {
      "cell_type": "code",
      "metadata": {
        "id": "93ZwvzYq4sc9",
        "colab_type": "code",
        "colab": {}
      },
      "source": [
        "image_tensor"
      ],
      "execution_count": 0,
      "outputs": []
    },
    {
      "cell_type": "code",
      "metadata": {
        "id": "NEessY8r4sdA",
        "colab_type": "code",
        "colab": {}
      },
      "source": [
        "a, b = category_images.__next__()"
      ],
      "execution_count": 0,
      "outputs": []
    },
    {
      "cell_type": "code",
      "metadata": {
        "id": "egMZh1A_4sdE",
        "colab_type": "code",
        "colab": {}
      },
      "source": [
        "d,e,f = b.shape"
      ],
      "execution_count": 0,
      "outputs": []
    },
    {
      "cell_type": "code",
      "metadata": {
        "id": "t8ba2uex4sdH",
        "colab_type": "code",
        "colab": {}
      },
      "source": [
        ""
      ],
      "execution_count": 0,
      "outputs": []
    },
    {
      "cell_type": "code",
      "metadata": {
        "id": "IKp1DZ-WKFV0",
        "colab_type": "code",
        "colab": {}
      },
      "source": [
        ""
      ],
      "execution_count": 0,
      "outputs": []
    },
    {
      "cell_type": "code",
      "metadata": {
        "id": "_zfrkjotL77M",
        "colab_type": "code",
        "colab": {}
      },
      "source": [
        ""
      ],
      "execution_count": 0,
      "outputs": []
    }
  ]
}